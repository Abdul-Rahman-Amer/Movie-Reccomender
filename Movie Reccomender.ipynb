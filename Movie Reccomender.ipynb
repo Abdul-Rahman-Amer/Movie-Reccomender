{
 "cells": [
  {
   "cell_type": "code",
   "execution_count": 1,
   "id": "d64c8a0f",
   "metadata": {},
   "outputs": [],
   "source": [
    "import pandas as pd"
   ]
  },
  {
   "cell_type": "markdown",
   "id": "65f8704e",
   "metadata": {},
   "source": [
    "# Reading in CSV "
   ]
  },
  {
   "cell_type": "code",
   "execution_count": 2,
   "id": "b2f69f5d",
   "metadata": {},
   "outputs": [],
   "source": [
    "df = pd.read_csv('./movie_rec/TMDb_updated.CSV')"
   ]
  },
  {
   "cell_type": "code",
   "execution_count": 3,
   "id": "c0989572",
   "metadata": {},
   "outputs": [
    {
     "name": "stdout",
     "output_type": "stream",
     "text": [
      "<class 'pandas.core.frame.DataFrame'>\n",
      "RangeIndex: 10000 entries, 0 to 9999\n",
      "Data columns (total 6 columns):\n",
      " #   Column             Non-Null Count  Dtype  \n",
      "---  ------             --------------  -----  \n",
      " 0   Unnamed: 0         10000 non-null  int64  \n",
      " 1   title              10000 non-null  object \n",
      " 2   overview           9970 non-null   object \n",
      " 3   original_language  10000 non-null  object \n",
      " 4   vote_count         10000 non-null  int64  \n",
      " 5   vote_average       10000 non-null  float64\n",
      "dtypes: float64(1), int64(2), object(3)\n",
      "memory usage: 468.9+ KB\n"
     ]
    }
   ],
   "source": [
    "df.info()"
   ]
  },
  {
   "cell_type": "code",
   "execution_count": 4,
   "id": "1b0eb3cf",
   "metadata": {},
   "outputs": [
    {
     "data": {
      "text/html": [
       "<div>\n",
       "<style scoped>\n",
       "    .dataframe tbody tr th:only-of-type {\n",
       "        vertical-align: middle;\n",
       "    }\n",
       "\n",
       "    .dataframe tbody tr th {\n",
       "        vertical-align: top;\n",
       "    }\n",
       "\n",
       "    .dataframe thead th {\n",
       "        text-align: right;\n",
       "    }\n",
       "</style>\n",
       "<table border=\"1\" class=\"dataframe\">\n",
       "  <thead>\n",
       "    <tr style=\"text-align: right;\">\n",
       "      <th></th>\n",
       "      <th>Unnamed: 0</th>\n",
       "      <th>title</th>\n",
       "      <th>overview</th>\n",
       "      <th>original_language</th>\n",
       "      <th>vote_count</th>\n",
       "      <th>vote_average</th>\n",
       "    </tr>\n",
       "  </thead>\n",
       "  <tbody>\n",
       "    <tr>\n",
       "      <th>0</th>\n",
       "      <td>0</td>\n",
       "      <td>Ad Astra</td>\n",
       "      <td>The near future, a time when both hope and har...</td>\n",
       "      <td>en</td>\n",
       "      <td>2853</td>\n",
       "      <td>5.9</td>\n",
       "    </tr>\n",
       "    <tr>\n",
       "      <th>1</th>\n",
       "      <td>1</td>\n",
       "      <td>Bloodshot</td>\n",
       "      <td>After he and his wife are murdered, marine Ray...</td>\n",
       "      <td>en</td>\n",
       "      <td>1349</td>\n",
       "      <td>7.2</td>\n",
       "    </tr>\n",
       "    <tr>\n",
       "      <th>2</th>\n",
       "      <td>2</td>\n",
       "      <td>Bad Boys for Life</td>\n",
       "      <td>Marcus and Mike are forced to confront new thr...</td>\n",
       "      <td>en</td>\n",
       "      <td>2530</td>\n",
       "      <td>7.1</td>\n",
       "    </tr>\n",
       "    <tr>\n",
       "      <th>3</th>\n",
       "      <td>3</td>\n",
       "      <td>Ant-Man</td>\n",
       "      <td>Armed with the astonishing ability to shrink i...</td>\n",
       "      <td>en</td>\n",
       "      <td>13611</td>\n",
       "      <td>7.1</td>\n",
       "    </tr>\n",
       "    <tr>\n",
       "      <th>4</th>\n",
       "      <td>4</td>\n",
       "      <td>Percy Jackson: Sea of Monsters</td>\n",
       "      <td>In their quest to confront the ultimate evil, ...</td>\n",
       "      <td>en</td>\n",
       "      <td>3542</td>\n",
       "      <td>5.9</td>\n",
       "    </tr>\n",
       "  </tbody>\n",
       "</table>\n",
       "</div>"
      ],
      "text/plain": [
       "   Unnamed: 0                           title  \\\n",
       "0           0                        Ad Astra   \n",
       "1           1                       Bloodshot   \n",
       "2           2               Bad Boys for Life   \n",
       "3           3                         Ant-Man   \n",
       "4           4  Percy Jackson: Sea of Monsters   \n",
       "\n",
       "                                            overview original_language  \\\n",
       "0  The near future, a time when both hope and har...                en   \n",
       "1  After he and his wife are murdered, marine Ray...                en   \n",
       "2  Marcus and Mike are forced to confront new thr...                en   \n",
       "3  Armed with the astonishing ability to shrink i...                en   \n",
       "4  In their quest to confront the ultimate evil, ...                en   \n",
       "\n",
       "   vote_count  vote_average  \n",
       "0        2853           5.9  \n",
       "1        1349           7.2  \n",
       "2        2530           7.1  \n",
       "3       13611           7.1  \n",
       "4        3542           5.9  "
      ]
     },
     "execution_count": 4,
     "metadata": {},
     "output_type": "execute_result"
    }
   ],
   "source": [
    "df.head()"
   ]
  },
  {
   "cell_type": "code",
   "execution_count": 5,
   "id": "e1b625f8",
   "metadata": {},
   "outputs": [],
   "source": [
    "df_untransformed = pd.read_csv('./movie_rec/TMDb_updated.CSV')"
   ]
  },
  {
   "cell_type": "markdown",
   "id": "9a171471",
   "metadata": {},
   "source": [
    "# Cleaning the data and converting the data\n",
    "\n",
    "## Remove unneeded data, convert columns. \n",
    "## Strip text\n",
    "### 1. Regex\n",
    "### 2. Removing stop words\n",
    "### 3. Lower case the text. "
   ]
  },
  {
   "cell_type": "code",
   "execution_count": 6,
   "id": "70cf70b4",
   "metadata": {},
   "outputs": [],
   "source": [
    "df.drop('Unnamed: 0',inplace=True, axis=1)\n",
    "df.drop('original_language', inplace=True, axis=1)\n",
    "df.dropna(inplace=True)\n",
    "df['vote_count']=df['vote_count'].astype(int)\n",
    "df['vote_average']=df['vote_average'].astype(int)"
   ]
  },
  {
   "cell_type": "code",
   "execution_count": 7,
   "id": "698ceff4",
   "metadata": {},
   "outputs": [
    {
     "name": "stdout",
     "output_type": "stream",
     "text": [
      "<class 'pandas.core.frame.DataFrame'>\n",
      "Int64Index: 9970 entries, 0 to 9999\n",
      "Data columns (total 4 columns):\n",
      " #   Column        Non-Null Count  Dtype \n",
      "---  ------        --------------  ----- \n",
      " 0   title         9970 non-null   object\n",
      " 1   overview      9970 non-null   object\n",
      " 2   vote_count    9970 non-null   int64 \n",
      " 3   vote_average  9970 non-null   int64 \n",
      "dtypes: int64(2), object(2)\n",
      "memory usage: 389.5+ KB\n"
     ]
    }
   ],
   "source": [
    "df.info()"
   ]
  },
  {
   "cell_type": "code",
   "execution_count": 8,
   "id": "e4824bf5",
   "metadata": {},
   "outputs": [
    {
     "name": "stdout",
     "output_type": "stream",
     "text": [
      "['Bad Trip', 'Road Trip', 'The Road Within', 'Sole a catinelle', 'The Lucky Ones', 'EuroTrip', 'Becoming', 'The Ritual', 'College Road Trip', 'The Guilt Trip']\n"
     ]
    }
   ],
   "source": [
    "from sklearn.feature_extraction.text import TfidfVectorizer\n",
    "from sklearn.metrics.pairwise import cosine_similarity\n",
    "\n",
    "df['text'] = df['title'] + ' ' + df['overview']\n",
    "\n",
    "\n",
    "vectorizer = TfidfVectorizer()\n",
    "tfidf = vectorizer.fit_transform(df['text'])\n",
    "\n",
    "\n",
    "new_overview = \"A group of friends go on a road trip across the country.\"\n",
    "new_tfidf = vectorizer.transform([new_overview])\n",
    "similarity_scores = cosine_similarity(tfidf, new_tfidf)\n",
    "\n",
    "\n",
    "top10_indices = similarity_scores.flatten().argsort()[:-11:-1]\n",
    "\n",
    "\n",
    "top10_titles = df['title'].iloc[top10_indices].tolist()\n",
    "\n",
    "print(top10_titles)\n"
   ]
  },
  {
   "cell_type": "code",
   "execution_count": 9,
   "id": "1d7eff78",
   "metadata": {},
   "outputs": [],
   "source": [
    "def rec_10():\n",
    "    description = str(input())\n",
    "    new_overview = description\n",
    "    new_tfidf = vectorizer.transform([new_overview])\n",
    "    similarity_scores = cosine_similarity(tfidf, new_tfidf)\n",
    "\n",
    "\n",
    "    top10_indices = similarity_scores.flatten().argsort()[:-11:-1]\n",
    "\n",
    " \n",
    "    top10_titles = df['title'].iloc[top10_indices].tolist()\n",
    "    top10_titles_and_descriptions = []\n",
    "    for i in top10_titles:\n",
    "        try:\n",
    "            info = df_untransformed[df['title']== i]['overview'].values[0]\n",
    "            top10_titles_and_descriptions.append((i,info))\n",
    "        except: \n",
    "            info = df_untransformed[df_untransformed['title']==i]['overview']\n",
    "            top10_titles_and_descriptions.append((i,info))\n",
    "            \n",
    "    cleaned = []\n",
    "    \n",
    "    for i in top10_titles_and_descriptions:\n",
    "        desc=i[1].values[0]\n",
    "        title=i[0]\n",
    "        cleaned.append((title,desc))\n",
    "        \n",
    "    return cleaned"
   ]
  },
  {
   "cell_type": "code",
   "execution_count": 10,
   "id": "699a8416",
   "metadata": {},
   "outputs": [
    {
     "name": "stdout",
     "output_type": "stream",
     "text": [
      "Two brothers who have a strong bond \n"
     ]
    },
    {
     "name": "stderr",
     "output_type": "stream",
     "text": [
      "/var/folders/wd/1cybbz0x4wn4b20r_6x53pt00000gn/T/ipykernel_46106/3391740515.py:15: UserWarning: Boolean Series key will be reindexed to match DataFrame index.\n",
      "  info = df_untransformed[df['title']== i]['overview'].values[0]\n"
     ]
    }
   ],
   "source": [
    "a = rec_10()"
   ]
  },
  {
   "cell_type": "code",
   "execution_count": 11,
   "id": "e3e5aab5",
   "metadata": {},
   "outputs": [
    {
     "data": {
      "text/plain": [
       "[('Never Say Never Again',\n",
       "  \"James Bond returns as the secret agent 007 one more time to battle the evil organization SPECTRE. Bond must defeat Largo, who has stolen two atomic warheads for nuclear blackmail. But Bond has an ally in Largo's girlfriend, the willowy Domino, who falls for Bond and seeks revenge. This is the last time for Sean Connery as Her Majesty's Secret Agent 007. Made outside of the traditional Broccoli production environment due to separate rights having been obtained for this specific Ian Fleming story.\"),\n",
       " ('The Darjeeling Limited',\n",
       "  'Three American brothers who have not spoken to each other in a year set off on a train voyage across India with a plan to find themselves and bond with each other -- to become brothers again like they used to be. Their \"spiritual quest\", however, veers rapidly off-course (due to events involving over-the-counter pain killers, Indian cough syrup, and pepper spray).'),\n",
       " ('The Prince of Egypt',\n",
       "  'This is the extraordinary tale of two brothers named Moses and Ramses, one born of royal blood, and one an orphan with a secret past. Growing up the best of friends, they share a strong bond of free-spirited youth and good-natured rivalry. But the truth will ultimately set them at odds, as one becomes the ruler of the most powerful empire on earth, and the other the chosen leader of his people! Their final confrontation will forever change their lives and the world.'),\n",
       " ('Four Brothers',\n",
       "  'Four adopted brothers return to their Detroit hometown when their mother is murdered and vow to exact revenge on the killers.'),\n",
       " ('In Your Eyes',\n",
       "  \"Two seemingly unconnected souls from different corners of the United States make a telepathic bond that allows them to see, hear and feel the other's experiences, creating a bond that apparently can't be broken.\"),\n",
       " ('Troublemakers',\n",
       "  'Two brothers who hate themselves are going to spend Christmas with their mother. She tries to get them together.'),\n",
       " ('American Heist',\n",
       "  'Two brothers, both with troubled paths, find themselves in the middle of one last bank job.'),\n",
       " ('Entourage',\n",
       "  'Movie star Vincent Chase, together with his boys, Eric, Turtle and Johnny, are back…and back in business with super agent-turned-studio head Ari Gold. Some of their ambitions have changed, but the bond between them remains strong as they navigate the capricious and often cutthroat world of Hollywood.'),\n",
       " ('Octopussy',\n",
       "  'James Bond is sent to investigate after a fellow “00” agent is found dead with a priceless Fabergé egg. Bond follows the mystery and uncovers a smuggling scandal and a Russian General who wants to provoke a new World War.'),\n",
       " ('Seven Brides for Seven Brothers',\n",
       "  'In 1850 Oregon, when a backwoodsman brings a wife home to his farm, his six brothers decide that they want to get married too.')]"
      ]
     },
     "execution_count": 11,
     "metadata": {},
     "output_type": "execute_result"
    }
   ],
   "source": [
    "a"
   ]
  }
 ],
 "metadata": {
  "kernelspec": {
   "display_name": "Python 3 (ipykernel)",
   "language": "python",
   "name": "python3"
  },
  "language_info": {
   "codemirror_mode": {
    "name": "ipython",
    "version": 3
   },
   "file_extension": ".py",
   "mimetype": "text/x-python",
   "name": "python",
   "nbconvert_exporter": "python",
   "pygments_lexer": "ipython3",
   "version": "3.9.16"
  }
 },
 "nbformat": 4,
 "nbformat_minor": 5
}
